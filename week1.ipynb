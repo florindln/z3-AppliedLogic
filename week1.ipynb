{
 "metadata": {
  "language_info": {
   "codemirror_mode": {
    "name": "ipython",
    "version": 3
   },
   "file_extension": ".py",
   "mimetype": "text/x-python",
   "name": "python",
   "nbconvert_exporter": "python",
   "pygments_lexer": "ipython3",
   "version": "3.9.1"
  },
  "orig_nbformat": 2,
  "kernelspec": {
   "name": "python391jvsc74a57bd077e92358824cd95e6c4bc8bbd85f8f915bed2cbffdf7b71de1dc818ae11a94c8",
   "display_name": "Python 3.9.1 64-bit"
  }
 },
 "nbformat": 4,
 "nbformat_minor": 2,
 "cells": [
  {
   "cell_type": "code",
   "execution_count": 7,
   "metadata": {},
   "outputs": [],
   "source": [
    "from z3 import *"
   ]
  },
  {
   "cell_type": "code",
   "execution_count": 8,
   "metadata": {},
   "outputs": [
    {
     "output_type": "stream",
     "name": "stdout",
     "text": [
      "sat\n[A = 3,\n D = 7,\n I = 8,\n x3 = 0,\n x2 = 0,\n x1 = 0,\n x4 = 1,\n x5 = 1,\n C = 6,\n H = 4,\n T = 9,\n F = 0,\n E = 1,\n S = 5]\n"
     ]
    }
   ],
   "source": [
    "S,A,E,T,D,C,H,I,F=Ints(\"S A E T D C H I F\")\n",
    "x1,x2,x3,x4,x5=Ints(\"x1 x2 x3 x4 x5\")\n",
    "d = Distinct(S,A,E,T,D,C,H,I,F)\n",
    "e = (S>=0,S<10,A>=0,A<10,E>=0,E<10,T>=0,T<10,D>=0,D<10,C>=0,C<10,H>=0,H<10,I>=0,I<10,F>=0,F<10)\n",
    "f = (x1>=0,x1<=1,x2>=0,x2<=1,x3>=0,x3<=1,x4>=0,x4<=1,x5>=0,x5<=1)\n",
    "\n",
    "s=Solver()\n",
    "s.add(d)\n",
    "s.add(e)\n",
    "s.add(f)\n",
    "\n",
    "s.add(S+A+E==T)\n",
    "s.add(Or(T+D+x2==C,T+D+x2==10+C))\n",
    "s.add(Or(A+I+x3==E,A+I+x3==10+E))\n",
    "s.add(Or(H+S+x4==F,H+S+x4==10+F))\n",
    "s.add(Or(T+x5==F,T+x5==F+10))\n",
    "s.add(E==1)\n",
    "s.add(F==0)\n",
    "s.add(T==9)\n",
    "\n",
    "print(s.check())\n",
    "print(s.model())\n"
   ]
  },
  {
   "cell_type": "code",
   "execution_count": 9,
   "metadata": {},
   "outputs": [
    {
     "output_type": "stream",
     "name": "stdout",
     "text": [
      "sat\n[A = 3, C = 1, D = 4, B = 2]\n"
     ]
    }
   ],
   "source": [
    "A,B,C,D = Ints(\"A B C D\")\n",
    "\n",
    "x=Distinct(A,B,C,D)\n",
    "y=(A<5,B<5,C<5,D<5, A>0,B>0,C>0,D>0)\n",
    "\n",
    "s=Solver()\n",
    "s.add(x)\n",
    "s.add(y)\n",
    "s.add(2*C==B)\n",
    "s.add(B+D>4*C)\n",
    "s.add(4*C==D)\n",
    "\n",
    "print(s.check())\n",
    "print(s.model())"
   ]
  },
  {
   "cell_type": "code",
   "execution_count": 10,
   "metadata": {},
   "outputs": [
    {
     "output_type": "stream",
     "name": "stdout",
     "text": [
      "1.0  * [[2, -1], [-5, 3]]\n"
     ]
    }
   ],
   "source": [
    "# 2x2 matrix of integer variables\n",
    "# A = [ [ Int(\"a_%s_%s\" % (i, j)) for j in range(2) ] \n",
    "#       for i in range(2) ]\n",
    "# print (A)\n",
    "\n",
    "A=[[3,1],[5,2]]\n",
    "\n",
    "\n",
    "diag1=A[0][0]*A[1][1]\n",
    "\n",
    "diag2=A[0][1]*A[1][0]\n",
    "\n",
    "determinant=diag1-diag2\n",
    "\n",
    "inverseRow1Col1=A[0][0]\n",
    "inverseRow0Col0=A[1][1]\n",
    "inverseRow0Col1=-A[0][1]\n",
    "inverseRow1Col0=-A[1][0]\n",
    "\n",
    "InverseA=[ [inverseRow0Col0,inverseRow0Col1],[inverseRow1Col0,inverseRow1Col1] ]\n",
    "\n",
    "\n",
    "print (1/determinant, \" *\",InverseA)\n"
   ]
  },
  {
   "cell_type": "code",
   "execution_count": 195,
   "metadata": {},
   "outputs": [
    {
     "output_type": "stream",
     "name": "stdout",
     "text": [
      "sat\n[y = -1, x = 2, t = 3, z = -5]\n"
     ]
    }
   ],
   "source": [
    "a11,a12,a21,a22 = Ints(\"a11 a12 a21 a22\")\n",
    "a11=3\n",
    "a12=1\n",
    "a21=5\n",
    "a22=2\n",
    "\n",
    "determinant=a11*a22-a12*a21\n",
    "x,y,z,t=Ints(\"x y z t\")\n",
    "\n",
    "s=Solver()\n",
    "s.add(a11*x+a12*z==1)\n",
    "s.add(a11*y+a12*t==0)\n",
    "s.add(a21*x+a22*z==0)\n",
    "s.add(a21*y+a22*t==1)\n",
    "\n",
    "\n",
    "print(s.check())\n",
    "print(s.model())\n"
   ]
  },
  {
   "cell_type": "code",
   "execution_count": 323,
   "metadata": {},
   "outputs": [
    {
     "output_type": "stream",
     "name": "stdout",
     "text": [
      "10\nsat\n[y1 = -7, z1 = -2, x1 = 6, t1 = 4]\n"
     ]
    }
   ],
   "source": [
    "a11,a12,a21,a22 = Ints(\"a11 a12 a21 a22\")\n",
    "a11=4\n",
    "a12=7\n",
    "a21=2\n",
    "a22=6\n",
    "\n",
    "determinant=a11*a22-a12*a21\n",
    "x1,y1,z1,t1,x2,y2,z2,t2=Ints(\"x1 y1 z1 t1 x2 y2 z2 t2\")\n",
    "\n",
    "s=Solver()\n",
    "s.add(a11*x1*determinant+a12*z1*determinant==determinant*determinant)\n",
    "s.add(a11*y1*determinant+a12*t1*determinant==0)\n",
    "s.add(a21*x1*determinant+a22*z1*determinant==0)\n",
    "s.add(a21*y1*determinant+a22*t1*determinant==determinant*determinant)\n",
    "\n",
    "\n",
    "print(determinant)\n",
    "print(s.check())\n",
    "print(s.model())\n"
   ]
  }
 ]
}