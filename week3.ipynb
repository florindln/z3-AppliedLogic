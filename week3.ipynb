{
 "metadata": {
  "language_info": {
   "codemirror_mode": {
    "name": "ipython",
    "version": 3
   },
   "file_extension": ".py",
   "mimetype": "text/x-python",
   "name": "python",
   "nbconvert_exporter": "python",
   "pygments_lexer": "ipython3",
   "version": "3.9.1"
  },
  "orig_nbformat": 2,
  "kernelspec": {
   "name": "python3",
   "display_name": "Python 3.9.1 64-bit"
  },
  "interpreter": {
   "hash": "77e92358824cd95e6c4bc8bbd85f8f915bed2cbffdf7b71de1dc818ae11a94c8"
  }
 },
 "nbformat": 4,
 "nbformat_minor": 2,
 "cells": [
  {
   "cell_type": "code",
   "execution_count": 2,
   "metadata": {},
   "outputs": [],
   "source": [
    "from z3 import *"
   ]
  },
  {
   "cell_type": "code",
   "execution_count": 6,
   "metadata": {},
   "outputs": [
    {
     "output_type": "stream",
     "name": "stdout",
     "text": [
      "sat\n[red = 2,\n blue = 1,\n x = 3,\n italian = 2,\n norwegian = 1,\n spanish = 3]\n"
     ]
    }
   ],
   "source": [
    "#basic zebra 1\n",
    "# h1,h2,h3= Ints('h1 h2 h3')\n",
    "red,blue,x=Ints('red blue x')\n",
    "spanish,norwegian,italian=Ints('spanish norwegian italian')\n",
    "\n",
    "s=Solver()\n",
    "s.add(spanish>0,norwegian>0,italian>0,spanish<4,norwegian<4,italian<4)\n",
    "s.add(red>0,blue>0,x>0,red<4,blue<4,x<4)\n",
    "s.add(Distinct(red,blue,x))\n",
    "s.add(Distinct(spanish,norwegian,italian))\n",
    "s.add(spanish==red+1)\n",
    "s.add(norwegian==blue)\n",
    "s.add(italian==2)\n",
    "\n",
    "print(s.check())\n",
    "print(s.model())"
   ]
  },
  {
   "cell_type": "code",
   "execution_count": 4,
   "metadata": {},
   "outputs": [
    {
     "output_type": "stream",
     "name": "stdout",
     "text": [
      "sat\n[t = 4,\n s6 = 3,\n vMar = 5,\n tieYell = 5,\n dpIt = 5,\n tieGreen = 4,\n s2 = 4,\n a = 3,\n vJan = 3,\n s3 = 1,\n vDec = 2,\n vJun = 1,\n tieBlue = 3,\n s5 = 5,\n ag40 = 2,\n s4 = 2,\n ag46 = 1,\n dpHr = 3,\n dpMarket = 4,\n ag34 = 5,\n ag55 = 3,\n dpRD = 1,\n dpSales = 2,\n n = 2,\n tieBlack = 2,\n vAug = 4,\n m = 1,\n ag51 = 4,\n tieRed = 1,\n j = 5]\n"
     ]
    }
   ],
   "source": [
    "#boss names: adam,julian,nathan,michael,thomas\n",
    "a,j,n,m,t = Ints('a j n m t')\n",
    "#tie colors\n",
    "tieBlack,tieBlue,tieGreen,tieRed,tieYell=Ints('tieBlack tieBlue tieGreen tieRed tieYell')\n",
    "#department\n",
    "dpHr,dpIt,dpMarket,dpRD,dpSales=Ints('dpHr dpIt dpMarket dpRD dpSales')\n",
    "#salaries (each number means thousand)\n",
    "s2,s3,s4,s5,s6=Ints('s2 s3 s4 s5 s6')\n",
    "#vacations\n",
    "vAug,vDec,vJan,vJun,vMar=Ints('vAug vDec vJan vJun vMar')\n",
    "#ages\n",
    "ag34,ag40,ag46,ag51,ag55=Ints('ag34 ag40 ag46 ag51 ag55')\n",
    "\n",
    "s=Solver()\n",
    "\n",
    "def makeDistinctandRange(v1,v2,v3,v4,v5):\n",
    "    s.add(Distinct(v1,v2,v3,v4,v5))\n",
    "    s.add(v1>0,v2>0,v3>0,v4>0,v5>0, v1<6,v2<6,v3<6,v4<6,v5<6)\n",
    "\n",
    "makeDistinctandRange(a,j,n,m,t)\n",
    "makeDistinctandRange(tieBlack,tieBlue,tieGreen,tieRed,tieYell)\n",
    "makeDistinctandRange(s2,s3,s4,s5,s6)\n",
    "makeDistinctandRange(vAug,vDec,vJan,vJun,vMar)\n",
    "makeDistinctandRange(ag34,ag40,ag46,ag51,ag55)\n",
    "makeDistinctandRange(dpHr,dpIt,dpMarket,dpRD,dpSales)\n",
    "\n",
    "s.add(j==5)\n",
    "s.add(tieRed==vJun)\n",
    "s.add(tieBlack>s3,tieBlack<a)\n",
    "s.add(ag51==s2)\n",
    "s.add(m==1)\n",
    "s.add(Or(vMar==1,vMar==5))\n",
    "s.add(Or(a==s4+1,a==s4-1))\n",
    "s.add(vAug==4)\n",
    "s.add(tieBlack==s4)\n",
    "s.add(Or(s5==1,s5==5))\n",
    "s.add(ag46<dpHr)\n",
    "s.add(dpHr>ag40,dpHr<t)\n",
    "s.add(n==vDec)\n",
    "s.add(dpSales==ag46+1)\n",
    "s.add(tieRed<tieYell)\n",
    "s.add(dpRD==1)\n",
    "s.add(ag55==tieBlue)\n",
    "s.add(Or(tieYell==1,tieYell==5))\n",
    "s.add(ag34==5)\n",
    "s.add(dpMarket==ag51)\n",
    "\n",
    "\n",
    "\n",
    "print(s.check())\n",
    "print(s.model())"
   ]
  },
  {
   "cell_type": "code",
   "execution_count": 5,
   "metadata": {},
   "outputs": [
    {
     "output_type": "stream",
     "name": "stdout",
     "text": [
      "sat\n[a13 = 3,\n a44 = 3,\n a14 = 4,\n a24 = 2,\n a34 = 1,\n a31 = 4,\n a12 = 2,\n a32 = 3,\n a21 = 3,\n a22 = 4,\n a33 = 2,\n a11 = 1,\n a41 = 2,\n a42 = 1,\n a23 = 1,\n a43 = 4]\n"
     ]
    }
   ],
   "source": [
    "#4x4 skyscraper matrix\n",
    "a11,a12,a13,a14 = Ints('a11 a12 a13 a14')\n",
    "a21,a22,a23,a24 = Ints('a21 a22 a23 a24')\n",
    "a31,a32,a33,a34 = Ints('a31 a32 a33 a34')\n",
    "a41,a42,a43,a44 = Ints('a41 a42 a43 a44')\n",
    "\n",
    "#f(1) means first variable is the biggest\n",
    "def see1(v1,v2,v3,v4):\n",
    "    s.add(v1==4)\n",
    "\n",
    "#f(2) means first variable is smaller than the second and the second the biggest OR\n",
    "#     first>second and first<third and third>forth OR\n",
    "#     first>second, first>third, first<forth\n",
    "def see2(v1,v2,v3,v4):    \n",
    "    s.add(Or( And(v1<v2,v2>v3,v2>v4),And(v1>v2,v1<v3,v3>v4),And(v1>v2,v1>v3,v1<v4 ) ))\n",
    "\n",
    "#f(3) means first variable is smaller than second, second smaller then third and third the biggest OR\n",
    "#     first<second, second>third, second<forth\n",
    "#    first<third, second<first, third<forth\n",
    "def see3(v1,v2,v3,v4):\n",
    "    s.add(Or(And(v1<v2,v2<v3,v3>v4), And(v1<v2,v2>v3,v2<v4), And(v1<v3,v2<v1,v3<v4) ))\n",
    "\n",
    "#f(4) means the variables in line/col are in ascending order\n",
    "def see4(v1,v2,v3,v4):\n",
    "    s.add(v1<v2,v2<v3,v3<v4)\n",
    "\n",
    "def makeDistinctandRange(v1,v2,v3,v4):\n",
    "    s.add(Distinct(v1,v2,v3,v4))\n",
    "    s.add(v1>0,v2>0,v3>0,v4>0, v1<5,v2<5,v3<5,v4<5)\n",
    "\n",
    "s=Solver()\n",
    "makeDistinctandRange(a11,a12,a13,a14)\n",
    "makeDistinctandRange(a21,a22,a23,a24)\n",
    "makeDistinctandRange(a31,a32,a33,a34)\n",
    "makeDistinctandRange(a41,a42,a43,a44)\n",
    "\n",
    "makeDistinctandRange(a11,a21,a31,a41)\n",
    "makeDistinctandRange(a12,a22,a32,a42)\n",
    "makeDistinctandRange(a13,a23,a33,a43)\n",
    "makeDistinctandRange(a14,a24,a34,a44)\n",
    "\n",
    "see4(a11,a12,a13,a14)\n",
    "see1(a43,a33,a23,a13)\n",
    "see2(a44,a34,a24,a14)\n",
    "see2(a24,a23,a22,a21)\n",
    "\n",
    "\n",
    "print(s.check())\n",
    "print(s.model())"
   ]
  }
 ]
}